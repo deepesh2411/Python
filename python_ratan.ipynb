{
 "cells": [
  {
   "cell_type": "code",
   "execution_count": 1,
   "metadata": {},
   "outputs": [
    {
     "name": "stdout",
     "output_type": "stream",
     "text": [
      "enter the first number:10\n",
      "enter the second number:20\n",
      "addition: 1020\n"
     ]
    }
   ],
   "source": [
    "num1=input(\"enter the first number:\")\n",
    "num2=input(\"enter the second number:\")                          #input() takes as string\n",
    "add=num1+num2\n",
    "print(\"addition:\",add)"
   ]
  },
  {
   "cell_type": "code",
   "execution_count": 2,
   "metadata": {},
   "outputs": [
    {
     "name": "stdout",
     "output_type": "stream",
     "text": [
      "enter the first number:10\n",
      "enter the second number:20\n",
      "addition: 30\n"
     ]
    }
   ],
   "source": [
    "num1=int(input(\"enter the first number:\"))                     #input() takes as string and converting it to the integer\n",
    "num2=int(input(\"enter the second number:\"))\n",
    "add=num1+num2\n",
    "print(\"addition:\",add)   "
   ]
  },
  {
   "cell_type": "code",
   "execution_count": 2,
   "metadata": {},
   "outputs": [
    {
     "name": "stdout",
     "output_type": "stream",
     "text": [
      "enter the eid:1\n",
      "enter the ename:deep\n",
      "enter the esal:500000\n",
      "1 deep 500000.0\n"
     ]
    }
   ],
   "source": [
    "eid=int(input(\"enter the eid:\"))\n",
    "ename=input(\"enter the ename:\")\n",
    "esal=float(input(\"enter the esal:\"))\n",
    "print(eid,ename,esal)"
   ]
  },
  {
   "cell_type": "markdown",
   "metadata": {},
   "source": [
    "# formating of data \n",
    "way1"
   ]
  },
  {
   "cell_type": "code",
   "execution_count": 3,
   "metadata": {},
   "outputs": [
    {
     "name": "stdout",
     "output_type": "stream",
     "text": [
      "emp_id=1 emp_name=deep emp_sal=500000\n"
     ]
    }
   ],
   "source": [
    "print(\"emp_id=%d emp_name=%s emp_sal=%g\"%(eid,ename,esal))"
   ]
  },
  {
   "cell_type": "markdown",
   "metadata": {},
   "source": [
    "# way_2"
   ]
  },
  {
   "cell_type": "code",
   "execution_count": 4,
   "metadata": {},
   "outputs": [
    {
     "name": "stdout",
     "output_type": "stream",
     "text": [
      "emp_id=1 emp_name=deep emp_sal=500000.0\n"
     ]
    }
   ],
   "source": [
    "print(\"emp_id={} emp_name={} emp_sal={}\".format(eid,ename,esal))"
   ]
  },
  {
   "cell_type": "markdown",
   "metadata": {},
   "source": [
    "# class_5 \n",
    "                      #if-else"
   ]
  },
  {
   "cell_type": "code",
   "execution_count": 5,
   "metadata": {},
   "outputs": [
    {
     "name": "stdout",
     "output_type": "stream",
     "text": [
      "if body\n"
     ]
    }
   ],
   "source": [
    "if 10<20:\n",
    "    print(\"if body\")\n",
    "else:\n",
    "    print(\"else body\")"
   ]
  },
  {
   "cell_type": "code",
   "execution_count": 6,
   "metadata": {},
   "outputs": [
    {
     "name": "stdout",
     "output_type": "stream",
     "text": [
      "else body\n"
     ]
    }
   ],
   "source": [
    "print(\"if body\") if 10>20 else print(\"else body\")"
   ]
  },
  {
   "cell_type": "code",
   "execution_count": 8,
   "metadata": {},
   "outputs": [
    {
     "name": "stdout",
     "output_type": "stream",
     "text": [
      "else body\n",
      "else body 2\n"
     ]
    },
    {
     "data": {
      "text/plain": [
       "{None}"
      ]
     },
     "execution_count": 8,
     "metadata": {},
     "output_type": "execute_result"
    }
   ],
   "source": [
    "{print(\"if body\"),print(\"if body 2\")} if 10>20 else {print(\"else body\"),print(\"else body 2\")}"
   ]
  },
  {
   "cell_type": "markdown",
   "metadata": {},
   "source": [
    "# iterators"
   ]
  },
  {
   "cell_type": "code",
   "execution_count": 1,
   "metadata": {},
   "outputs": [
    {
     "name": "stdout",
     "output_type": "stream",
     "text": [
      "0\n",
      "1\n",
      "2\n",
      "3\n",
      "4\n",
      "5\n",
      "6\n",
      "7\n",
      "8\n",
      "9\n"
     ]
    }
   ],
   "source": [
    "for x in range(10):\n",
    "    print(x)"
   ]
  },
  {
   "cell_type": "code",
   "execution_count": 2,
   "metadata": {},
   "outputs": [
    {
     "name": "stdout",
     "output_type": "stream",
     "text": [
      "4\n",
      "5\n",
      "6\n",
      "7\n",
      "8\n",
      "9\n"
     ]
    }
   ],
   "source": [
    "for x in range(4,10):\n",
    "    print(x)"
   ]
  },
  {
   "cell_type": "code",
   "execution_count": 3,
   "metadata": {},
   "outputs": [
    {
     "name": "stdout",
     "output_type": "stream",
     "text": [
      "4\n",
      "7\n"
     ]
    }
   ],
   "source": [
    "for x in range(4,10,3):\n",
    "    print(x)"
   ]
  },
  {
   "cell_type": "code",
   "execution_count": 4,
   "metadata": {},
   "outputs": [
    {
     "name": "stdout",
     "output_type": "stream",
     "text": [
      "10\n",
      "7\n"
     ]
    }
   ],
   "source": [
    "for x in range(10,4,-3):\n",
    "    print(x)"
   ]
  },
  {
   "cell_type": "code",
   "execution_count": 7,
   "metadata": {},
   "outputs": [
    {
     "name": "stdout",
     "output_type": "stream",
     "text": [
      "10\n",
      "9\n",
      "8\n",
      "7\n",
      "6\n",
      "5\n",
      "4\n",
      "3\n",
      "2\n",
      "1\n"
     ]
    }
   ],
   "source": [
    "for x in range(10,0,-1):\n",
    "    print(x)"
   ]
  },
  {
   "cell_type": "code",
   "execution_count": 8,
   "metadata": {},
   "outputs": [
    {
     "name": "stdout",
     "output_type": "stream",
     "text": [
      "0\n",
      "1\n",
      "2\n",
      "3\n",
      "4\n",
      "normal execution of for loop\n"
     ]
    }
   ],
   "source": [
    "for x in range(5):\n",
    "    print(x)\n",
    "else:\n",
    "    print(\"normal execution of for loop\")"
   ]
  },
  {
   "cell_type": "code",
   "execution_count": 9,
   "metadata": {},
   "outputs": [
    {
     "name": "stdout",
     "output_type": "stream",
     "text": [
      "0\n"
     ]
    },
    {
     "ename": "ZeroDivisionError",
     "evalue": "division by zero",
     "output_type": "error",
     "traceback": [
      "\u001b[1;31m---------------------------------------------------------------------------\u001b[0m",
      "\u001b[1;31mZeroDivisionError\u001b[0m                         Traceback (most recent call last)",
      "\u001b[1;32m<ipython-input-9-26fc9f526d09>\u001b[0m in \u001b[0;36m<module>\u001b[1;34m()\u001b[0m\n\u001b[0;32m      3\u001b[0m \u001b[1;32mfor\u001b[0m \u001b[0mx\u001b[0m \u001b[1;32min\u001b[0m \u001b[0mrange\u001b[0m\u001b[1;33m(\u001b[0m\u001b[1;36m5\u001b[0m\u001b[1;33m)\u001b[0m\u001b[1;33m:\u001b[0m\u001b[1;33m\u001b[0m\u001b[0m\n\u001b[0;32m      4\u001b[0m     \u001b[0mprint\u001b[0m\u001b[1;33m(\u001b[0m\u001b[0mx\u001b[0m\u001b[1;33m)\u001b[0m\u001b[1;33m\u001b[0m\u001b[0m\n\u001b[1;32m----> 5\u001b[1;33m     \u001b[0mprint\u001b[0m\u001b[1;33m(\u001b[0m\u001b[1;36m10\u001b[0m\u001b[1;33m/\u001b[0m\u001b[1;36m0\u001b[0m\u001b[1;33m)\u001b[0m\u001b[1;33m\u001b[0m\u001b[0m\n\u001b[0m\u001b[0;32m      6\u001b[0m \u001b[1;32melse\u001b[0m\u001b[1;33m:\u001b[0m\u001b[1;33m\u001b[0m\u001b[0m\n\u001b[0;32m      7\u001b[0m     \u001b[0mprint\u001b[0m\u001b[1;33m(\u001b[0m\u001b[1;34m\"normal execution of for loop\"\u001b[0m\u001b[1;33m)\u001b[0m\u001b[1;33m\u001b[0m\u001b[0m\n",
      "\u001b[1;31mZeroDivisionError\u001b[0m: division by zero"
     ]
    }
   ],
   "source": [
    "#in 3 cases else block will not executed\n",
    "#case_1\n",
    "for x in range(5):\n",
    "    print(x)\n",
    "    print(10/0)                                         #when exception occur\n",
    "else:\n",
    "    print(\"normal execution of for loop\")"
   ]
  },
  {
   "cell_type": "code",
   "execution_count": 1,
   "metadata": {},
   "outputs": [
    {
     "name": "stdout",
     "output_type": "stream",
     "text": [
      "0\n",
      "1\n",
      "2\n"
     ]
    }
   ],
   "source": [
    "#case_2\n",
    "for x in range(5):\n",
    "    if x==3:\n",
    "        break                                        #when break statement used\n",
    "    print(x)\n",
    "else:\n",
    "    print(\"normal execution of for loop\")"
   ]
  },
  {
   "cell_type": "code",
   "execution_count": null,
   "metadata": {},
   "outputs": [],
   "source": [
    "#case_3\n",
    "import os\n",
    "for x in range(5):\n",
    "    print(x)\n",
    "    os._exit(0)\n",
    "else:\n",
    "    print(\"normal execution of for loop\")"
   ]
  },
  {
   "cell_type": "markdown",
   "metadata": {},
   "source": [
    "# class_8"
   ]
  },
  {
   "cell_type": "code",
   "execution_count": 3,
   "metadata": {},
   "outputs": [
    {
     "name": "stdout",
     "output_type": "stream",
     "text": [
      "ranjan\n",
      "srivastava\n",
      "deeti\n"
     ]
    }
   ],
   "source": [
    "#nonlocal vs global\n",
    "name=\"deep\"\n",
    "def outer():\n",
    "    name1=\"ranjan\"\n",
    "    def inner():\n",
    "        nonlocal name1\n",
    "        name1=\"srivastava\"\n",
    "        global name\n",
    "        name=\"deeti\"\n",
    "    print(name1)\n",
    "    inner()\n",
    "    print(name1)\n",
    "outer()\n",
    "print(name)"
   ]
  },
  {
   "cell_type": "markdown",
   "metadata": {},
   "source": [
    "# class_9   python function"
   ]
  },
  {
   "cell_type": "code",
   "execution_count": 1,
   "metadata": {},
   "outputs": [
    {
     "name": "stdout",
     "output_type": "stream",
     "text": [
      "deep\n"
     ]
    }
   ],
   "source": [
    "#function\n",
    "def disp():\n",
    "    print(\"deep\")\n",
    "disp()"
   ]
  },
  {
   "cell_type": "markdown",
   "metadata": {},
   "source": [
    "## ##default arg"
   ]
  },
  {
   "cell_type": "code",
   "execution_count": 9,
   "metadata": {},
   "outputs": [
    {
     "name": "stdout",
     "output_type": "stream",
     "text": [
      "111 deepesh 500000.45\n",
      "222 deepesh 500000.45\n",
      "333 ranjan 500000.45\n",
      "444 deeti 1000000.78\n",
      "srivastava deepesh 500000.45\n"
     ]
    }
   ],
   "source": [
    "                                                      #default arg\n",
    "def disp(eid=111,ename=\"deepesh\",esal=500000.45):\n",
    "    print(eid,ename,esal)\n",
    "disp()\n",
    "disp(222)\n",
    "disp(333,\"ranjan\")\n",
    "disp(444,\"deeti\",1000000.78)\n",
    "disp(\"srivastava\")"
   ]
  },
  {
   "cell_type": "code",
   "execution_count": 10,
   "metadata": {},
   "outputs": [
    {
     "name": "stdout",
     "output_type": "stream",
     "text": [
      "444 deeti 1000000.78\n"
     ]
    }
   ],
   "source": [
    "                                                      #required arg\n",
    "def disp(eid,ename,esal):\n",
    "    print(eid,ename,esal)\n",
    "                                            #disp()\n",
    "                                            #disp(222)\n",
    "                                            #disp(333,\"ranjan\")\n",
    "disp(444,\"deeti\",1000000.78)    #3 arg you have to pass"
   ]
  },
  {
   "cell_type": "code",
   "execution_count": 12,
   "metadata": {},
   "outputs": [
    {
     "ename": "TypeError",
     "evalue": "disp() missing 3 required positional arguments: 'eid', 'ename', and 'esal'",
     "output_type": "error",
     "traceback": [
      "\u001b[1;31m---------------------------------------------------------------------------\u001b[0m",
      "\u001b[1;31mTypeError\u001b[0m                                 Traceback (most recent call last)",
      "\u001b[1;32m<ipython-input-12-3ff1356b3f67>\u001b[0m in \u001b[0;36m<module>\u001b[1;34m()\u001b[0m\n\u001b[0;32m      4\u001b[0m     \u001b[0mesal\u001b[0m\u001b[1;33m=\u001b[0m\u001b[1;36m500000.45\u001b[0m\u001b[1;33m\u001b[0m\u001b[0m\n\u001b[0;32m      5\u001b[0m     \u001b[0mprint\u001b[0m\u001b[1;33m(\u001b[0m\u001b[0meid\u001b[0m\u001b[1;33m,\u001b[0m\u001b[0mename\u001b[0m\u001b[1;33m,\u001b[0m\u001b[0mesal\u001b[0m\u001b[1;33m)\u001b[0m\u001b[1;33m\u001b[0m\u001b[0m\n\u001b[1;32m----> 6\u001b[1;33m \u001b[0mdisp\u001b[0m\u001b[1;33m(\u001b[0m\u001b[1;33m)\u001b[0m\u001b[1;33m\u001b[0m\u001b[0m\n\u001b[0m",
      "\u001b[1;31mTypeError\u001b[0m: disp() missing 3 required positional arguments: 'eid', 'ename', and 'esal'"
     ]
    }
   ],
   "source": [
    "def disp(eid,ename,esal):\n",
    "    eid=111\n",
    "    ename=\"deepesh\"\n",
    "    esal=500000.45\n",
    "    print(eid,ename,esal)\n",
    "disp()\n"
   ]
  },
  {
   "cell_type": "code",
   "execution_count": 13,
   "metadata": {},
   "outputs": [
    {
     "name": "stdout",
     "output_type": "stream",
     "text": [
      "222 deepesh 500000.45\n",
      "333 ranjan 500000.45\n",
      "444 deeti 1000000.78\n",
      "srivastava deepesh 500000.45\n"
     ]
    }
   ],
   "source": [
    "                         #mixing of default arg and required arg\n",
    "def disp(eid,ename=\"deepesh\",esal=500000.45):\n",
    "    print(eid,ename,esal)\n",
    "disp(222)\n",
    "disp(333,\"ranjan\")\n",
    "disp(444,\"deeti\",1000000.78)\n",
    "disp(\"srivastava\")"
   ]
  },
  {
   "cell_type": "code",
   "execution_count": 18,
   "metadata": {},
   "outputs": [
    {
     "name": "stdout",
     "output_type": "stream",
     "text": [
      "333 ranjan 20000.65\n"
     ]
    }
   ],
   "source": [
    "                                          #keyword arg\n",
    "def disp(eid,ename,esal):\n",
    "    print(eid,ename,esal)\n",
    "\n",
    "disp(333,esal=20000.65,ename=\"ranjan\")\n"
   ]
  },
  {
   "cell_type": "code",
   "execution_count": 15,
   "metadata": {},
   "outputs": [
    {
     "ename": "SyntaxError",
     "evalue": "positional argument follows keyword argument (<ipython-input-15-e9ec03ddce48>, line 4)",
     "output_type": "error",
     "traceback": [
      "\u001b[1;36m  File \u001b[1;32m\"<ipython-input-15-e9ec03ddce48>\"\u001b[1;36m, line \u001b[1;32m4\u001b[0m\n\u001b[1;33m    disp(333,ename=\"ranjan\",20000.65)\u001b[0m\n\u001b[1;37m                           ^\u001b[0m\n\u001b[1;31mSyntaxError\u001b[0m\u001b[1;31m:\u001b[0m positional argument follows keyword argument\n"
     ]
    }
   ],
   "source": [
    "def disp(eid,ename,esal):\n",
    "    print(eid,ename,esal)\n",
    "\n",
    "disp(333,ename=\"ranjan\",20000.65)"
   ]
  },
  {
   "cell_type": "code",
   "execution_count": 16,
   "metadata": {},
   "outputs": [
    {
     "name": "stdout",
     "output_type": "stream",
     "text": [
      "10\n",
      "10\n",
      "20\n"
     ]
    }
   ],
   "source": [
    "                             #var-arg\n",
    "def disp(*a):                                #it allows to take any no of arg\n",
    "    for x in a:\n",
    "        print(x)\n",
    "disp()                                      #0 arg\n",
    "disp(10)                                    #1 arg\n",
    "disp(10,20)                                 #2 arg"
   ]
  },
  {
   "cell_type": "code",
   "execution_count": 17,
   "metadata": {},
   "outputs": [
    {
     "name": "stdout",
     "output_type": "stream",
     "text": [
      "aaa\n",
      "bbb\n",
      "10\n",
      "ccc\n",
      "10\n",
      "20\n"
     ]
    }
   ],
   "source": [
    "#mixing default arg and var arg\n",
    "def disp(name,*a):\n",
    "    print(name)                                      #it allows to take any no of arg\n",
    "    for x in a:\n",
    "        print(x)\n",
    "disp(\"aaa\")                                       #1 arg\n",
    "disp(\"bbb\",10)                                    #2 arg\n",
    "disp(\"ccc\",10,20)                                 #3 arg"
   ]
  },
  {
   "cell_type": "markdown",
   "metadata": {},
   "source": [
    "# class_10   python function video 2"
   ]
  },
  {
   "cell_type": "code",
   "execution_count": 19,
   "metadata": {},
   "outputs": [
    {
     "name": "stdout",
     "output_type": "stream",
     "text": [
      "good morng\n",
      "10\n",
      "good morng\n",
      "10\n"
     ]
    }
   ],
   "source": [
    "#return value\n",
    "def disp():\n",
    "    print(\"good morng\")\n",
    "    return 10\n",
    "x=disp()\n",
    "print(x)\n",
    "print(disp())"
   ]
  },
  {
   "cell_type": "code",
   "execution_count": 20,
   "metadata": {},
   "outputs": [
    {
     "name": "stdout",
     "output_type": "stream",
     "text": [
      "good morng\n",
      "10\n"
     ]
    }
   ],
   "source": [
    "def disp():\n",
    "    print(\"good morng\")\n",
    "    return 10\n",
    "    return 20                   #ignored \n",
    "    print(\"deepesh\")             #ignored \n",
    "\n",
    "print(disp())"
   ]
  },
  {
   "cell_type": "code",
   "execution_count": 21,
   "metadata": {},
   "outputs": [
    {
     "name": "stdout",
     "output_type": "stream",
     "text": [
      "good morng\n",
      "None\n"
     ]
    }
   ],
   "source": [
    "def disp():\n",
    "    print(\"good morng\")\n",
    "   \n",
    "x=disp()\n",
    "print(x)                             #default return value is null"
   ]
  },
  {
   "cell_type": "code",
   "execution_count": 22,
   "metadata": {},
   "outputs": [
    {
     "name": "stdout",
     "output_type": "stream",
     "text": [
      "deepesh\n",
      "inner function var name= ranjan\n",
      "ranjan\n"
     ]
    }
   ],
   "source": [
    "def outer():\n",
    "    name1=\"deepesh\"\n",
    "    def inner():\n",
    "        nonlocal name1\n",
    "        name1=\"ranjan\"\n",
    "        print(\"inner function var name=\",name1)        #2 ranjan\n",
    "    print(name1)                                     #1 deepesh\n",
    "    inner()\n",
    "    print(name1)                                   #3 ranjan\n",
    "outer()"
   ]
  },
  {
   "cell_type": "code",
   "execution_count": 23,
   "metadata": {},
   "outputs": [
    {
     "name": "stdout",
     "output_type": "stream",
     "text": [
      "deepesh\n",
      "inner function var name= ranjan\n",
      "deepesh\n"
     ]
    }
   ],
   "source": [
    "def outer():\n",
    "    name1=\"deepesh\"\n",
    "    def inner():\n",
    "        name1=\"ranjan\"\n",
    "        print(\"inner function var name=\",name1)         #2 ranjan\n",
    "    print(name1)                                        #1 deepesh\n",
    "    inner()\n",
    "    print(name1)                                        #3 deepesh\n",
    "outer()"
   ]
  },
  {
   "cell_type": "code",
   "execution_count": 24,
   "metadata": {},
   "outputs": [
    {
     "name": "stdout",
     "output_type": "stream",
     "text": [
      "deepesh\n",
      "inner1 function var name= ranjan\n",
      "deepesh\n",
      "inner2 function var name= deeti\n",
      "deeti\n",
      "inner3 function var name= srivastava\n",
      "deeti\n",
      "srivastava\n"
     ]
    }
   ],
   "source": [
    "def outer():\n",
    "    name1=\"deepesh\"\n",
    "    def inner1():\n",
    "        name1=\"ranjan\"\n",
    "        print(\"inner1 function var name=\",name1)\n",
    "    \n",
    "    def inner2():\n",
    "        nonlocal name1\n",
    "        name1=\"deeti\"\n",
    "        print(\"inner2 function var name=\",name1)\n",
    "        \n",
    "    def inner3():\n",
    "        global name1\n",
    "        name1=\"srivastava\"\n",
    "        print(\"inner3 function var name=\",name1)\n",
    "    \n",
    "    print(name1)                                        \n",
    "    inner1()\n",
    "    print(name1)\n",
    "    inner2()\n",
    "    print(name1)  \n",
    "    inner3()\n",
    "    print(name1)\n",
    "outer()\n",
    "print(name1)  "
   ]
  },
  {
   "cell_type": "code",
   "execution_count": null,
   "metadata": {},
   "outputs": [],
   "source": []
  }
 ],
 "metadata": {
  "kernelspec": {
   "display_name": "Python 3",
   "language": "python",
   "name": "python3"
  },
  "language_info": {
   "codemirror_mode": {
    "name": "ipython",
    "version": 3
   },
   "file_extension": ".py",
   "mimetype": "text/x-python",
   "name": "python",
   "nbconvert_exporter": "python",
   "pygments_lexer": "ipython3",
   "version": "3.7.0"
  }
 },
 "nbformat": 4,
 "nbformat_minor": 2
}
